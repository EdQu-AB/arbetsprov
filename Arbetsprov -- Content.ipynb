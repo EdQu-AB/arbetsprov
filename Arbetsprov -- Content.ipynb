{
 "metadata": {
  "name": ""
 },
 "nbformat": 3,
 "nbformat_minor": 0,
 "worksheets": [
  {
   "cells": [
    {
     "cell_type": "heading",
     "level": 1,
     "metadata": {},
     "source": [
      "EdQu - Arbetsprov"
     ]
    },
    {
     "cell_type": "markdown",
     "metadata": {},
     "source": [
      "N\u00e5n text om vad det \u00e4r vi efterfr\u00e5gar f\u00f6r inneh\u00e5llsutveckligen... Och introduktion till v\u00e5r grundklass"
     ]
    },
    {
     "cell_type": "code",
     "collapsed": false,
     "input": [
      "from abc import abstractmethod\n",
      "\n",
      "class Question(object):\n",
      "    @abstractmethod\n",
      "    def question(self):\n",
      "        pass\n",
      "    \n",
      "    @abstractmethod\n",
      "    def evaluate(self, seed, inputs):\n",
      "        pass\n",
      "\n",
      "    # etcetera\n",
      "    "
     ],
     "language": "python",
     "metadata": {},
     "outputs": [],
     "prompt_number": 7
    },
    {
     "cell_type": "markdown",
     "metadata": {},
     "source": [
      "Be s\u00f6kande att fylla i X fr\u00e5gor i markdown och kod. Och att g\u00e4rna med kod visa att den funkar. (hur g\u00f6r vi med seed?)"
     ]
    },
    {
     "cell_type": "markdown",
     "metadata": {},
     "source": []
    },
    {
     "cell_type": "code",
     "collapsed": false,
     "input": [
      "# Deras egen kod f\u00f6r fr\u00e5gor"
     ],
     "language": "python",
     "metadata": {},
     "outputs": [],
     "prompt_number": 8
    },
    {
     "cell_type": "markdown",
     "metadata": {},
     "source": [
      "Vi har f\u00f6ljande fr\u00e5gor som inte fungerar helt ut, hur kan de f\u00f6rb\u00e4ttras? (ska vi g\u00f6ra det h\u00e4r \u00f6ht?)"
     ]
    },
    {
     "cell_type": "code",
     "collapsed": false,
     "input": [
      "# Fr\u00e5gor med buggar i sig, vi kan hitta gamla fr\u00e5gor f\u00f6r det h\u00e4r"
     ],
     "language": "python",
     "metadata": {},
     "outputs": []
    }
   ],
   "metadata": {}
  }
 ]
}